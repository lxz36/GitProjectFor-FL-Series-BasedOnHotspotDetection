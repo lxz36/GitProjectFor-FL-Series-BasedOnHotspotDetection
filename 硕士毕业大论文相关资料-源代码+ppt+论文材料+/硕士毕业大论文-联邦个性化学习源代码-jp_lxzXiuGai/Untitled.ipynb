{
 "cells": [
  {
   "cell_type": "code",
   "execution_count": 24,
   "metadata": {},
   "outputs": [
    {
     "name": "stdout",
     "output_type": "stream",
     "text": [
      "loading data into the main memory...\n"
     ]
    },
    {
     "name": "stderr",
     "output_type": "stream",
     "text": [
      "reading npy files: 100%|███████████████████████████████████████████████████████████████| 32/32 [00:00<00:00, 63.59it/s]\n"
     ]
    },
    {
     "name": "stdout",
     "output_type": "stream",
     "text": [
      "Resampled dataset asml1_train to size (65551, 144, 32)\n",
      "1\n"
     ]
    }
   ],
   "source": [
    "import sys\n",
    "import os\n",
    "import random\n",
    "import time\n",
    "import numpy as np\n",
    "from tqdm import trange\n",
    "import configparser as cp\n",
    "import copy\n",
    "import argparse\n",
    "\n",
    "\n",
    "if 'PYTHONPATH' in os.environ:\n",
    "    # FIXME: unset this to make torchvision work in our server\n",
    "    del os.environ['PYTHONPATH']\n",
    "\n",
    "if 'OMP_DISPLAY_ENV' in os.environ:\n",
    "    os.environ['OMP_DISPLAY_ENV'] = 'FALSE'\n",
    "\n",
    "\n",
    "import torch\n",
    "import torch.nn as nn\n",
    "import torch.optim as optim\n",
    "from torch.utils.data import WeightedRandomSampler\n",
    "from torchvision import transforms\n",
    "\n",
    "from model_pytorch import Model\n",
    "from data_pytorch_mixed import MixedLayoutHotspotDataset\n",
    "from data_pytorch import alloc_benchmark\n",
    "from tools import *\n",
    "\n",
    "\n",
    "arg_parser = argparse.ArgumentParser()\n",
    "arg_parser.add_argument(\"--model_path\", type=str,\n",
    "                        default=\"./models/model\")\n",
    "\n",
    "# args = arg_parser.parse_args()\n",
    "\n",
    "\n",
    "np.random.seed(42)\n",
    "\n",
    "\n",
    "'''\n",
    "Initialize Path and Global Params\n",
    "'''\n",
    "infile = cp.ConfigParser()\n",
    "infile.read('iccad_config.ini')\n",
    "# read .ini file\n",
    "model_path = './models/model'\n",
    "server_model_path = os.path.join(model_path, 'server')\n",
    "\n",
    "# prepare server model path\n",
    "os.makedirs(server_model_path, exist_ok=True)\n",
    "\n",
    "# prepare testing set paths\n",
    "test_data_ini_items = {\n",
    "    'iccad2012': 'test_path_2012',\n",
    "    'asml1':     'test_path_asml1',\n",
    "    'asml2':     'test_path_asml2',\n",
    "    'asml3':     'test_path_asml3',\n",
    "    'asml4':     'test_path_asml4'}\n",
    "test_data_keys = ['asml1', 'iccad2012']\n",
    "test_data_paths = {\n",
    "    ds_key: infile.get('dir', test_data_ini_items[ds_key])\n",
    "    for ds_key in test_data_keys}\n",
    "\n",
    "\n",
    "'''\n",
    "Hyperparameter settings\n",
    "'''\n",
    "\n",
    "max_round = 50  # max training round in server, used to be 50\n",
    "max_itr = 500\n",
    "train_batchsize = 64  # training batch size in clients\n",
    "test_batchsize = 256  # testing batch size\n",
    "lr_init = 1e-3\n",
    "bias_step = 6400  # step interval to adjust bias\n",
    "weight_decay = 1e-5 # L2 regularization strength\n",
    "group_lasso_strength = 0.\n",
    "\n",
    "# other settings\n",
    "display_step = 50  # display step\n",
    "n_features = 32\n",
    "\n",
    "\n",
    "'''\n",
    "Define dataset preprocessing pipeline\n",
    "'''\n",
    "# load mean & std for normalization\n",
    "normalization_dataset = {\n",
    "    'iccad2012': (np.load('npy/iccad2012-mean.npy'),\n",
    "                  np.load('npy/iccad2012-std.npy')),\n",
    "    'asml1': (np.load('npy/asml1-mean.npy'),\n",
    "              np.load('npy/asml1-std.npy')),\n",
    "}\n",
    "\n",
    "# train data pipeline\n",
    "train_data = MixedLayoutHotspotDataset(\n",
    "    benchmark_paths=[\n",
    "                     'benchmarks/asml1_train']\n",
    "    )\n",
    "\n",
    "train_loader = torch.utils.data.DataLoader(\n",
    "    train_data,\n",
    "    batch_size=train_batchsize,\n",
    "    shuffle=True,\n",
    "    num_workers=16\n",
    "    )\n",
    "    \n",
    "\n",
    "# # test data pipeline\n",
    "# test_data = []\n",
    "# for _key in test_data_keys:\n",
    "#     _path = test_data_paths[_key]\n",
    "#     test_data += alloc_benchmark(\n",
    "#         benchmark_dir=_path,\n",
    "#         clients_num=1,\n",
    "#         transform='test',\n",
    "#         normalize=normalization_dataset[_key])\n",
    "# test_loader = [\n",
    "#     torch.utils.data.DataLoader(\n",
    "#         _data,\n",
    "#         batch_size=test_batchsize,\n",
    "#         shuffle=False,\n",
    "#         num_workers=16)\n",
    "#     for _data in test_data]\n",
    "print(1)"
   ]
  },
  {
   "cell_type": "code",
   "execution_count": 25,
   "metadata": {},
   "outputs": [],
   "source": [
    "train_loader = torch.utils.data.DataLoader(\n",
    "    train_data,\n",
    "    batch_size=train_batchsize,\n",
    "    shuffle=True,\n",
    "    num_workers=16\n",
    "    )"
   ]
  },
  {
   "cell_type": "code",
   "execution_count": 26,
   "metadata": {},
   "outputs": [
    {
     "data": {
      "text/plain": [
       "data_pytorch_mixed.MixedLayoutHotspotDataset"
      ]
     },
     "execution_count": 26,
     "metadata": {},
     "output_type": "execute_result"
    }
   ],
   "source": [
    "type(train_data)"
   ]
  }
 ],
 "metadata": {
  "kernelspec": {
   "display_name": "Python 3",
   "language": "python",
   "name": "python3"
  },
  "language_info": {
   "codemirror_mode": {
    "name": "ipython",
    "version": 3
   },
   "file_extension": ".py",
   "mimetype": "text/x-python",
   "name": "python",
   "nbconvert_exporter": "python",
   "pygments_lexer": "ipython3",
   "version": "3.7.0"
  }
 },
 "nbformat": 4,
 "nbformat_minor": 2
}
